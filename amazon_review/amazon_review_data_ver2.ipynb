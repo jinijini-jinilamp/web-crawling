{
 "cells": [
  {
   "cell_type": "markdown",
   "metadata": {},
   "source": [
    "# Amazon 상품 Review 데이터 가져오기\n",
    "* 반복 코드 수정 (add)\n",
    "* 제품을 검색하여 상품 review받기 (add)\n",
    "* wordcloud 추가 (add)\n",
    "* Selenium과 BeautifulSoup을 이용"
   ]
  },
  {
   "cell_type": "code",
   "execution_count": 168,
   "metadata": {},
   "outputs": [],
   "source": [
    "from selenium import webdriver\n",
    "from bs4 import BeautifulSoup\n",
    "import pandas as pd\n",
    "import os, warnings \n",
    "import re\n",
    "import time\n",
    "warnings.filterwarnings(action='ignore') #warning message 무시하고 숨기기\n",
    "from wordcloud import WordCloud\n",
    "import numpy as np\n",
    "from PIL import Image\n",
    "import matplotlib.pyplot as plt"
   ]
  },
  {
   "cell_type": "markdown",
   "metadata": {},
   "source": [
    "### 1) Amazon 사이트 열기"
   ]
  },
  {
   "cell_type": "code",
   "execution_count": 169,
   "metadata": {},
   "outputs": [],
   "source": [
    "driver = webdriver.Chrome('chromedriver')\n",
    "url='https://www.amazon.com/'\n",
    "driver.get(url)"
   ]
  },
  {
   "cell_type": "markdown",
   "metadata": {},
   "source": [
    "### 2) 키워드 입력후 찾기"
   ]
  },
  {
   "cell_type": "code",
   "execution_count": 170,
   "metadata": {},
   "outputs": [],
   "source": [
    "#키워드 입력란\n",
    "sel_search=driver.find_element_by_xpath('//*[@id=\"twotabsearchtextbox\"]')\n",
    "#검색 버튼\n",
    "sel_btn= driver.find_element_by_xpath('//*[@id=\"nav-search-submit-button\"]')\n",
    "\n",
    "sel_search.clear() #값을 지움\n",
    "sel_search.send_keys('dump truck toy') #입력\n",
    "\n",
    "sel_btn.click() #클릭"
   ]
  },
  {
   "cell_type": "markdown",
   "metadata": {},
   "source": [
    "### 3) 첫번째 제품 클릭\n",
    "* sponsored를 제외하고 첫번째 제품 "
   ]
  },
  {
   "cell_type": "code",
   "execution_count": 171,
   "metadata": {},
   "outputs": [],
   "source": [
    "searchResult = driver.page_source\n",
    "soup = BeautifulSoup(searchResult,'lxml')\n",
    "\n",
    "itemList = driver.find_elements_by_css_selector(\"div[class='sg-col-4-of-12 s-result-item s-asin sg-col-4-of-16 sg-col sg-col-4-of-20']\")\n",
    "firstUrl = itemList[0].find_element_by_css_selector(\"span[class='a-size-base-plus a-color-base a-text-normal']\")\n",
    "\n",
    "firstUrl.click()"
   ]
  },
  {
   "cell_type": "markdown",
   "metadata": {},
   "source": [
    "### 4) 리뷰 클릭하고 전체 리뷰 보기"
   ]
  },
  {
   "cell_type": "code",
   "execution_count": 172,
   "metadata": {},
   "outputs": [],
   "source": [
    "reviewSee = driver.find_element_by_xpath('//*[@id=\"acrCustomerReviewText\"]')\n",
    "reviewSee.click()\n",
    "\n",
    "reviewAll = driver.find_element_by_xpath('//*[@id=\"cr-pagination-footer-0\"]/a')\n",
    "reviewAll.click()"
   ]
  },
  {
   "cell_type": "markdown",
   "metadata": {},
   "source": [
    "### 5) review 정보 가지고 오기\n",
    "* review 내용 , 작성자, 평점, 작성날짜, 작성지역, 유용함 정도\n",
    "* 10개 페이지 내용 가지고 오기"
   ]
  },
  {
   "cell_type": "code",
   "execution_count": 173,
   "metadata": {
    "scrolled": true
   },
   "outputs": [
    {
     "name": "stdout",
     "output_type": "stream",
     "text": [
      "['Lil Bit of Sassiness', 'Janos', 'Billy  Rhoton', 'Kate', 'K', 'D.R.', 'Rachel', 'Chase kacsor', 'Kel', 'Tammy2566', 'Lil Bit of Sassiness', 'Janos', 'Billy  Rhoton', 'Kate', 'K', 'D.R.', 'Rachel', 'Chase kacsor', 'Kel', 'Tammy2566', 'Lil Bit of Sassiness', 'Janos', 'Billy  Rhoton', 'Kate', 'K', 'D.R.', 'Rachel', 'Chase kacsor', 'Kel', 'Tammy2566', 'Lil Bit of Sassiness', 'Janos', 'Billy  Rhoton', 'Kate', 'K', 'D.R.', 'Rachel', 'Chase kacsor', 'Kel', 'Tammy2566', 'Lil Bit of Sassiness', 'Janos', 'Billy  Rhoton', 'Kate', 'K', 'D.R.', 'Rachel', 'Chase kacsor', 'Kel', 'Tammy2566', 'Lil Bit of Sassiness', 'Janos', 'Billy  Rhoton', 'Kate', 'K', 'D.R.', 'Rachel', 'Chase kacsor', 'Kel', 'Tammy2566', 'Lil Bit of Sassiness', 'Janos', 'Billy  Rhoton', 'Kate', 'K', 'D.R.', 'Rachel', 'Chase kacsor', 'Kel', 'Tammy2566', 'Lil Bit of Sassiness', 'Janos', 'Billy  Rhoton', 'Kate', 'K', 'D.R.', 'Rachel', 'Chase kacsor', 'Kel', 'Tammy2566', 'Lil Bit of Sassiness', 'Janos', 'Billy  Rhoton', 'Kate', 'K', 'D.R.', 'Rachel', 'Chase kacsor', 'Kel', 'Tammy2566', 'Lil Bit of Sassiness', 'Janos', 'Billy  Rhoton', 'Kate', 'K', 'D.R.', 'Rachel', 'Chase kacsor', 'Kel', 'Tammy2566'] ['5.0', '5.0', '5.0', '5.0', '5.0', '3.0', '3.0', '5.0', '5.0', '5.0', '5.0', '5.0', '5.0', '5.0', '5.0', '3.0', '3.0', '5.0', '5.0', '5.0', '5.0', '5.0', '5.0', '5.0', '5.0', '3.0', '3.0', '5.0', '5.0', '5.0', '5.0', '5.0', '5.0', '5.0', '5.0', '3.0', '3.0', '5.0', '5.0', '5.0', '5.0', '5.0', '5.0', '5.0', '5.0', '3.0', '3.0', '5.0', '5.0', '5.0', '5.0', '5.0', '5.0', '5.0', '5.0', '3.0', '3.0', '5.0', '5.0', '5.0', '5.0', '5.0', '5.0', '5.0', '5.0', '3.0', '3.0', '5.0', '5.0', '5.0', '5.0', '5.0', '5.0', '5.0', '5.0', '3.0', '3.0', '5.0', '5.0', '5.0', '5.0', '5.0', '5.0', '5.0', '5.0', '3.0', '3.0', '5.0', '5.0', '5.0', '5.0', '5.0', '5.0', '5.0', '5.0', '3.0', '3.0', '5.0', '5.0', '5.0'] ['October 30, 2019', 'May 4, 2020', 'December 14, 2019', 'January 10, 2020', 'February 29, 2020', 'August 24, 2020', 'December 9, 2019', 'September 7, 2020', 'January 19, 2021', 'July 31, 2020', 'October 30, 2019', 'May 4, 2020', 'December 14, 2019', 'January 10, 2020', 'February 29, 2020', 'August 24, 2020', 'December 9, 2019', 'September 7, 2020', 'January 19, 2021', 'July 31, 2020', 'October 30, 2019', 'May 4, 2020', 'December 14, 2019', 'January 10, 2020', 'February 29, 2020', 'August 24, 2020', 'December 9, 2019', 'September 7, 2020', 'January 19, 2021', 'July 31, 2020', 'October 30, 2019', 'May 4, 2020', 'December 14, 2019', 'January 10, 2020', 'February 29, 2020', 'August 24, 2020', 'December 9, 2019', 'September 7, 2020', 'January 19, 2021', 'July 31, 2020', 'October 30, 2019', 'May 4, 2020', 'December 14, 2019', 'January 10, 2020', 'February 29, 2020', 'August 24, 2020', 'December 9, 2019', 'September 7, 2020', 'January 19, 2021', 'July 31, 2020', 'October 30, 2019', 'May 4, 2020', 'December 14, 2019', 'January 10, 2020', 'February 29, 2020', 'August 24, 2020', 'December 9, 2019', 'September 7, 2020', 'January 19, 2021', 'July 31, 2020', 'October 30, 2019', 'May 4, 2020', 'December 14, 2019', 'January 10, 2020', 'February 29, 2020', 'August 24, 2020', 'December 9, 2019', 'September 7, 2020', 'January 19, 2021', 'July 31, 2020', 'October 30, 2019', 'May 4, 2020', 'December 14, 2019', 'January 10, 2020', 'February 29, 2020', 'August 24, 2020', 'December 9, 2019', 'September 7, 2020', 'January 19, 2021', 'July 31, 2020', 'October 30, 2019', 'May 4, 2020', 'December 14, 2019', 'January 10, 2020', 'February 29, 2020', 'August 24, 2020', 'December 9, 2019', 'September 7, 2020', 'January 19, 2021', 'July 31, 2020', 'October 30, 2019', 'May 4, 2020', 'December 14, 2019', 'January 10, 2020', 'February 29, 2020', 'August 24, 2020', 'December 9, 2019', 'September 7, 2020', 'January 19, 2021', 'July 31, 2020'] ['United States', 'United States', 'United States', 'United States', 'United States', 'United States', 'United States', 'United States', 'United States', 'United States', 'United States', 'United States', 'United States', 'United States', 'United States', 'United States', 'United States', 'United States', 'United States', 'United States', 'United States', 'United States', 'United States', 'United States', 'United States', 'United States', 'United States', 'United States', 'United States', 'United States', 'United States', 'United States', 'United States', 'United States', 'United States', 'United States', 'United States', 'United States', 'United States', 'United States', 'United States', 'United States', 'United States', 'United States', 'United States', 'United States', 'United States', 'United States', 'United States', 'United States', 'United States', 'United States', 'United States', 'United States', 'United States', 'United States', 'United States', 'United States', 'United States', 'United States', 'United States', 'United States', 'United States', 'United States', 'United States', 'United States', 'United States', 'United States', 'United States', 'United States', 'United States', 'United States', 'United States', 'United States', 'United States', 'United States', 'United States', 'United States', 'United States', 'United States', 'United States', 'United States', 'United States', 'United States', 'United States', 'United States', 'United States', 'United States', 'United States', 'United States', 'United States', 'United States', 'United States', 'United States', 'United States', 'United States', 'United States', 'United States', 'United States', 'United States'] ['20', '11', '13', '5', '6', '2', '3', '4', 0, 0, '20', '11', '13', '5', '6', '2', '3', '4', 0, 0, '20', '11', '13', '5', '6', '2', '3', '4', 0, 0, '20', '11', '13', '5', '6', '2', '3', '4', 0, 0, '20', '11', '13', '5', '6', '2', '3', '4', 0, 0, '20', '11', '13', '5', '6', '2', '3', '4', 0, 0, '20', '11', '13', '5', '6', '2', '3', '4', 0, 0, '20', '11', '13', '5', '6', '2', '3', '4', 0, 0, '20', '11', '13', '5', '6', '2', '3', '4', 0, 0, '20', '11', '13', '5', '6', '2', '3', '4', 0, 0]\n"
     ]
    }
   ],
   "source": [
    "review=[]\n",
    "reviewer =[]\n",
    "review_rate=[]\n",
    "review_date=[]\n",
    "review_area=[]\n",
    "review_helpful=[]\n",
    "\n",
    "#여러 페이지 가지고 오기\n",
    "for i in range(10):\n",
    "    page = driver.page_source\n",
    "    soup = BeautifulSoup(page,'lxml')\n",
    "    \n",
    "    #한 페이지에서 데이터 가지고 오기\n",
    "    review_all = soup.find(\"div\",id=\"cm_cr-review_list\").find_all(\"div\",class_=\"a-section celwidget\")\n",
    "\n",
    "    for j in review_all:\n",
    "        review.append(j.find(\"span\",attrs={\"data-hook\":\"review-body\"}).text.strip())        \n",
    "        reviewer.append(j.find(\"span\",class_=\"a-profile-name\").text)       \n",
    "        review_rate.append(j.find(\"span\",class_=\"a-icon-alt\").text.split(' ')[0])\n",
    "        date_area=j.find(\"span\",attrs={\"data-hook\":\"review-date\"}).text.lstrip('Reviewed in the').split(' on ')\n",
    "        review_date.append(date_area[-1])      \n",
    "        review_area.append(date_area[0])\n",
    "      \n",
    "        helpful_count= j.find(\"span\",attrs={\"data-hook\":\"helpful-vote-statement\"})\n",
    "        if helpful_count is not None:\n",
    "            helpful_count = j.find(\"span\",attrs={\"data-hook\":\"helpful-vote-statement\"}).text.split(' ')[0]\n",
    "            if helpful_count == 'One':\n",
    "                helpful_count = 1\n",
    "        else:\n",
    "            helpful_count =0\n",
    "        review_helpful.append(helpful_count) \n",
    "        \n",
    "    nextPage=driver.find_element_by_xpath('//*[@id=\"cm_cr-pagination_bar\"]/ul/li[2]/a')\n",
    "    nextPage.click()    \n",
    "    time.sleep(1)\n",
    "    \n",
    "print(reviewer, review_rate,review_date, review_area, review_helpful )\n"
   ]
  },
  {
   "cell_type": "markdown",
   "metadata": {},
   "source": [
    "### 6) 데이터 프레임 만들어 csv파일 생성"
   ]
  },
  {
   "cell_type": "code",
   "execution_count": 174,
   "metadata": {},
   "outputs": [
    {
     "data": {
      "text/html": [
       "<div>\n",
       "<style scoped>\n",
       "    .dataframe tbody tr th:only-of-type {\n",
       "        vertical-align: middle;\n",
       "    }\n",
       "\n",
       "    .dataframe tbody tr th {\n",
       "        vertical-align: top;\n",
       "    }\n",
       "\n",
       "    .dataframe thead th {\n",
       "        text-align: right;\n",
       "    }\n",
       "</style>\n",
       "<table border=\"1\" class=\"dataframe\">\n",
       "  <thead>\n",
       "    <tr style=\"text-align: right;\">\n",
       "      <th></th>\n",
       "      <th>review</th>\n",
       "      <th>reviewer</th>\n",
       "      <th>rate</th>\n",
       "      <th>review_date</th>\n",
       "      <th>area</th>\n",
       "      <th>helpful_count</th>\n",
       "    </tr>\n",
       "  </thead>\n",
       "  <tbody>\n",
       "    <tr>\n",
       "      <th>0</th>\n",
       "      <td>This truck is perfect for our grandson! He lov...</td>\n",
       "      <td>Lil Bit of Sassiness</td>\n",
       "      <td>5.0</td>\n",
       "      <td>October 30, 2019</td>\n",
       "      <td>United States</td>\n",
       "      <td>20</td>\n",
       "    </tr>\n",
       "    <tr>\n",
       "      <th>1</th>\n",
       "      <td>The title of the review pretty much sums this ...</td>\n",
       "      <td>Janos</td>\n",
       "      <td>5.0</td>\n",
       "      <td>May 4, 2020</td>\n",
       "      <td>United States</td>\n",
       "      <td>11</td>\n",
       "    </tr>\n",
       "    <tr>\n",
       "      <th>2</th>\n",
       "      <td>I was kinda skeptical due to the price but I a...</td>\n",
       "      <td>Billy  Rhoton</td>\n",
       "      <td>5.0</td>\n",
       "      <td>December 14, 2019</td>\n",
       "      <td>United States</td>\n",
       "      <td>13</td>\n",
       "    </tr>\n",
       "    <tr>\n",
       "      <th>3</th>\n",
       "      <td>Our little one really enjoys this big dump tru...</td>\n",
       "      <td>Kate</td>\n",
       "      <td>5.0</td>\n",
       "      <td>January 10, 2020</td>\n",
       "      <td>United States</td>\n",
       "      <td>5</td>\n",
       "    </tr>\n",
       "    <tr>\n",
       "      <th>4</th>\n",
       "      <td>my son loves to take this outside in the yard....</td>\n",
       "      <td>K</td>\n",
       "      <td>5.0</td>\n",
       "      <td>February 29, 2020</td>\n",
       "      <td>United States</td>\n",
       "      <td>6</td>\n",
       "    </tr>\n",
       "    <tr>\n",
       "      <th>...</th>\n",
       "      <td>...</td>\n",
       "      <td>...</td>\n",
       "      <td>...</td>\n",
       "      <td>...</td>\n",
       "      <td>...</td>\n",
       "      <td>...</td>\n",
       "    </tr>\n",
       "    <tr>\n",
       "      <th>95</th>\n",
       "      <td>The CAT Bulldozer is good looking, but the tre...</td>\n",
       "      <td>D.R.</td>\n",
       "      <td>3.0</td>\n",
       "      <td>August 24, 2020</td>\n",
       "      <td>United States</td>\n",
       "      <td>2</td>\n",
       "    </tr>\n",
       "    <tr>\n",
       "      <th>96</th>\n",
       "      <td>Was expecting it to be larger, but I didnt che...</td>\n",
       "      <td>Rachel</td>\n",
       "      <td>3.0</td>\n",
       "      <td>December 9, 2019</td>\n",
       "      <td>United States</td>\n",
       "      <td>3</td>\n",
       "    </tr>\n",
       "    <tr>\n",
       "      <th>97</th>\n",
       "      <td>Good dump truck for kids. My little one loves ...</td>\n",
       "      <td>Chase kacsor</td>\n",
       "      <td>5.0</td>\n",
       "      <td>September 7, 2020</td>\n",
       "      <td>United States</td>\n",
       "      <td>4</td>\n",
       "    </tr>\n",
       "    <tr>\n",
       "      <th>98</th>\n",
       "      <td>My 2 year old son loves this toy and plays wit...</td>\n",
       "      <td>Kel</td>\n",
       "      <td>5.0</td>\n",
       "      <td>January 19, 2021</td>\n",
       "      <td>United States</td>\n",
       "      <td>0</td>\n",
       "    </tr>\n",
       "    <tr>\n",
       "      <th>99</th>\n",
       "      <td>This is a gift for my grandson who is turning ...</td>\n",
       "      <td>Tammy2566</td>\n",
       "      <td>5.0</td>\n",
       "      <td>July 31, 2020</td>\n",
       "      <td>United States</td>\n",
       "      <td>0</td>\n",
       "    </tr>\n",
       "  </tbody>\n",
       "</table>\n",
       "<p>100 rows × 6 columns</p>\n",
       "</div>"
      ],
      "text/plain": [
       "                                               review              reviewer  \\\n",
       "0   This truck is perfect for our grandson! He lov...  Lil Bit of Sassiness   \n",
       "1   The title of the review pretty much sums this ...                 Janos   \n",
       "2   I was kinda skeptical due to the price but I a...         Billy  Rhoton   \n",
       "3   Our little one really enjoys this big dump tru...                  Kate   \n",
       "4   my son loves to take this outside in the yard....                     K   \n",
       "..                                                ...                   ...   \n",
       "95  The CAT Bulldozer is good looking, but the tre...                  D.R.   \n",
       "96  Was expecting it to be larger, but I didnt che...                Rachel   \n",
       "97  Good dump truck for kids. My little one loves ...          Chase kacsor   \n",
       "98  My 2 year old son loves this toy and plays wit...                   Kel   \n",
       "99  This is a gift for my grandson who is turning ...             Tammy2566   \n",
       "\n",
       "   rate        review_date           area helpful_count  \n",
       "0   5.0   October 30, 2019  United States            20  \n",
       "1   5.0        May 4, 2020  United States            11  \n",
       "2   5.0  December 14, 2019  United States            13  \n",
       "3   5.0   January 10, 2020  United States             5  \n",
       "4   5.0  February 29, 2020  United States             6  \n",
       "..  ...                ...            ...           ...  \n",
       "95  3.0    August 24, 2020  United States             2  \n",
       "96  3.0   December 9, 2019  United States             3  \n",
       "97  5.0  September 7, 2020  United States             4  \n",
       "98  5.0   January 19, 2021  United States             0  \n",
       "99  5.0      July 31, 2020  United States             0  \n",
       "\n",
       "[100 rows x 6 columns]"
      ]
     },
     "metadata": {},
     "output_type": "display_data"
    },
    {
     "ename": "PermissionError",
     "evalue": "[Errno 13] Permission denied: 'amazon_review.csv'",
     "output_type": "error",
     "traceback": [
      "\u001b[1;31m---------------------------------------------------------------------------\u001b[0m",
      "\u001b[1;31mPermissionError\u001b[0m                           Traceback (most recent call last)",
      "\u001b[1;32m<ipython-input-174-563354d47c55>\u001b[0m in \u001b[0;36m<module>\u001b[1;34m\u001b[0m\n\u001b[0;32m      8\u001b[0m \u001b[0mdata\u001b[0m \u001b[1;33m=\u001b[0m \u001b[0mpd\u001b[0m\u001b[1;33m.\u001b[0m\u001b[0mDataFrame\u001b[0m\u001b[1;33m(\u001b[0m\u001b[0mdata\u001b[0m\u001b[1;33m)\u001b[0m\u001b[1;33m\u001b[0m\u001b[1;33m\u001b[0m\u001b[0m\n\u001b[0;32m      9\u001b[0m \u001b[0mdisplay\u001b[0m\u001b[1;33m(\u001b[0m\u001b[0mdata\u001b[0m\u001b[1;33m)\u001b[0m\u001b[1;33m\u001b[0m\u001b[1;33m\u001b[0m\u001b[0m\n\u001b[1;32m---> 10\u001b[1;33m \u001b[0mdata\u001b[0m\u001b[1;33m.\u001b[0m\u001b[0mto_csv\u001b[0m\u001b[1;33m(\u001b[0m\u001b[1;34m'amazon_review.csv'\u001b[0m\u001b[1;33m,\u001b[0m\u001b[0mindex\u001b[0m\u001b[1;33m=\u001b[0m\u001b[1;32mFalse\u001b[0m\u001b[1;33m,\u001b[0m \u001b[0mencoding\u001b[0m\u001b[1;33m=\u001b[0m\u001b[1;34m'utf-8-sig'\u001b[0m\u001b[1;33m)\u001b[0m\u001b[1;33m\u001b[0m\u001b[1;33m\u001b[0m\u001b[0m\n\u001b[0m",
      "\u001b[1;32m~\\anaconda3\\lib\\site-packages\\pandas\\core\\generic.py\u001b[0m in \u001b[0;36mto_csv\u001b[1;34m(self, path_or_buf, sep, na_rep, float_format, columns, header, index, index_label, mode, encoding, compression, quoting, quotechar, line_terminator, chunksize, date_format, doublequote, escapechar, decimal, errors)\u001b[0m\n\u001b[0;32m   3168\u001b[0m             \u001b[0mdecimal\u001b[0m\u001b[1;33m=\u001b[0m\u001b[0mdecimal\u001b[0m\u001b[1;33m,\u001b[0m\u001b[1;33m\u001b[0m\u001b[1;33m\u001b[0m\u001b[0m\n\u001b[0;32m   3169\u001b[0m         )\n\u001b[1;32m-> 3170\u001b[1;33m         \u001b[0mformatter\u001b[0m\u001b[1;33m.\u001b[0m\u001b[0msave\u001b[0m\u001b[1;33m(\u001b[0m\u001b[1;33m)\u001b[0m\u001b[1;33m\u001b[0m\u001b[1;33m\u001b[0m\u001b[0m\n\u001b[0m\u001b[0;32m   3171\u001b[0m \u001b[1;33m\u001b[0m\u001b[0m\n\u001b[0;32m   3172\u001b[0m         \u001b[1;32mif\u001b[0m \u001b[0mpath_or_buf\u001b[0m \u001b[1;32mis\u001b[0m \u001b[1;32mNone\u001b[0m\u001b[1;33m:\u001b[0m\u001b[1;33m\u001b[0m\u001b[1;33m\u001b[0m\u001b[0m\n",
      "\u001b[1;32m~\\anaconda3\\lib\\site-packages\\pandas\\io\\formats\\csvs.py\u001b[0m in \u001b[0;36msave\u001b[1;34m(self)\u001b[0m\n\u001b[0;32m    183\u001b[0m             \u001b[0mclose\u001b[0m \u001b[1;33m=\u001b[0m \u001b[1;32mFalse\u001b[0m\u001b[1;33m\u001b[0m\u001b[1;33m\u001b[0m\u001b[0m\n\u001b[0;32m    184\u001b[0m         \u001b[1;32melse\u001b[0m\u001b[1;33m:\u001b[0m\u001b[1;33m\u001b[0m\u001b[1;33m\u001b[0m\u001b[0m\n\u001b[1;32m--> 185\u001b[1;33m             f, handles = get_handle(\n\u001b[0m\u001b[0;32m    186\u001b[0m                 \u001b[0mself\u001b[0m\u001b[1;33m.\u001b[0m\u001b[0mpath_or_buf\u001b[0m\u001b[1;33m,\u001b[0m\u001b[1;33m\u001b[0m\u001b[1;33m\u001b[0m\u001b[0m\n\u001b[0;32m    187\u001b[0m                 \u001b[0mself\u001b[0m\u001b[1;33m.\u001b[0m\u001b[0mmode\u001b[0m\u001b[1;33m,\u001b[0m\u001b[1;33m\u001b[0m\u001b[1;33m\u001b[0m\u001b[0m\n",
      "\u001b[1;32m~\\anaconda3\\lib\\site-packages\\pandas\\io\\common.py\u001b[0m in \u001b[0;36mget_handle\u001b[1;34m(path_or_buf, mode, encoding, compression, memory_map, is_text, errors)\u001b[0m\n\u001b[0;32m    491\u001b[0m         \u001b[1;32mif\u001b[0m \u001b[0mencoding\u001b[0m\u001b[1;33m:\u001b[0m\u001b[1;33m\u001b[0m\u001b[1;33m\u001b[0m\u001b[0m\n\u001b[0;32m    492\u001b[0m             \u001b[1;31m# Encoding\u001b[0m\u001b[1;33m\u001b[0m\u001b[1;33m\u001b[0m\u001b[1;33m\u001b[0m\u001b[0m\n\u001b[1;32m--> 493\u001b[1;33m             \u001b[0mf\u001b[0m \u001b[1;33m=\u001b[0m \u001b[0mopen\u001b[0m\u001b[1;33m(\u001b[0m\u001b[0mpath_or_buf\u001b[0m\u001b[1;33m,\u001b[0m \u001b[0mmode\u001b[0m\u001b[1;33m,\u001b[0m \u001b[0mencoding\u001b[0m\u001b[1;33m=\u001b[0m\u001b[0mencoding\u001b[0m\u001b[1;33m,\u001b[0m \u001b[0merrors\u001b[0m\u001b[1;33m=\u001b[0m\u001b[0merrors\u001b[0m\u001b[1;33m,\u001b[0m \u001b[0mnewline\u001b[0m\u001b[1;33m=\u001b[0m\u001b[1;34m\"\"\u001b[0m\u001b[1;33m)\u001b[0m\u001b[1;33m\u001b[0m\u001b[1;33m\u001b[0m\u001b[0m\n\u001b[0m\u001b[0;32m    494\u001b[0m         \u001b[1;32melif\u001b[0m \u001b[0mis_text\u001b[0m\u001b[1;33m:\u001b[0m\u001b[1;33m\u001b[0m\u001b[1;33m\u001b[0m\u001b[0m\n\u001b[0;32m    495\u001b[0m             \u001b[1;31m# No explicit encoding\u001b[0m\u001b[1;33m\u001b[0m\u001b[1;33m\u001b[0m\u001b[1;33m\u001b[0m\u001b[0m\n",
      "\u001b[1;31mPermissionError\u001b[0m: [Errno 13] Permission denied: 'amazon_review.csv'"
     ]
    }
   ],
   "source": [
    "data ={'review': review, \n",
    "       'reviewer':reviewer, \n",
    "       'rate':review_rate ,\n",
    "       'review_date': review_date,\n",
    "       'area':review_area,\n",
    "       'helpful_count':review_helpful}\n",
    "\n",
    "data = pd.DataFrame(data)\n",
    "display(data)\n",
    "data.to_csv('amazon_review.csv',index=False, encoding='utf-8-sig')"
   ]
  },
  {
   "cell_type": "markdown",
   "metadata": {},
   "source": [
    "### 7) 워드클라우드 나타내기"
   ]
  },
  {
   "cell_type": "code",
   "execution_count": null,
   "metadata": {},
   "outputs": [],
   "source": [
    "print(type(review)) #type이 list라서 String 문자열로 변환해줌\n",
    "\n",
    "wordcloud = WordCloud(max_font_size=200,background_color='white', width=800, height=800).generate(''.join(review))\n",
    "\n",
    "plt.figure(figsize=(10, 8))\n",
    "plt.imshow(wordcloud, interpolation='bilinear')\n",
    "plt.tight_layout(pad=0)\n",
    "plt.axis('off')\n",
    "plt.show()\n"
   ]
  }
 ],
 "metadata": {
  "kernelspec": {
   "display_name": "Python 3",
   "language": "python",
   "name": "python3"
  },
  "language_info": {
   "codemirror_mode": {
    "name": "ipython",
    "version": 3
   },
   "file_extension": ".py",
   "mimetype": "text/x-python",
   "name": "python",
   "nbconvert_exporter": "python",
   "pygments_lexer": "ipython3",
   "version": "3.8.5"
  }
 },
 "nbformat": 4,
 "nbformat_minor": 4
}
