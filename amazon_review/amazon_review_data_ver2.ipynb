{
 "cells": [
  {
   "cell_type": "markdown",
   "metadata": {},
   "source": [
    "# Amazon 상품 Review 데이터 가져오기\n",
    "* 반복 코드 수정 (add)\n",
    "* 제품을 검색하여 상품 review받기 (add)\n",
    "* wordcloud 추가 (add)\n",
    "* Selenium과 BeautifulSoup을 이용"
   ]
  },
  {
   "cell_type": "code",
   "execution_count": 168,
   "metadata": {},
   "outputs": [],
   "source": [
    "from selenium import webdriver\n",
    "from bs4 import BeautifulSoup\n",
    "import pandas as pd\n",
    "import os, warnings \n",
    "import re\n",
    "import time\n",
    "warnings.filterwarnings(action='ignore') #warning message 무시하고 숨기기\n",
    "from wordcloud import WordCloud\n",
    "import numpy as np\n",
    "from PIL import Image\n",
    "import matplotlib.pyplot as plt"
   ]
  },
  {
   "cell_type": "markdown",
   "metadata": {},
   "source": [
    "### 1) Amazon 사이트 열기"
   ]
  },
  {
   "cell_type": "code",
   "execution_count": 169,
   "metadata": {},
   "outputs": [],
   "source": [
    "driver = webdriver.Chrome('chromedriver')\n",
    "url='https://www.amazon.com/'\n",
    "driver.get(url)"
   ]
  },
  {
   "cell_type": "markdown",
   "metadata": {},
   "source": [
    "### 2) 키워드 입력후 찾기"
   ]
  },
  {
   "cell_type": "code",
   "execution_count": null,
   "metadata": {},
   "outputs": [],
   "source": [
    "#키워드 입력란\n",
    "sel_search=driver.find_element_by_xpath('//*[@id=\"twotabsearchtextbox\"]')\n",
    "#검색 버튼\n",
    "sel_btn= driver.find_element_by_xpath('//*[@id=\"nav-search-submit-button\"]')\n",
    "\n",
    "sel_search.clear() #값을 지움\n",
    "sel_search.send_keys('dump truck toy') #입력\n",
    "\n",
    "sel_btn.click() #클릭"
   ]
  },
  {
   "cell_type": "markdown",
   "metadata": {},
   "source": [
    "### 3) 첫번째 제품 클릭\n",
    "* sponsored를 제외하고 첫번째 제품 "
   ]
  },
  {
   "cell_type": "code",
   "execution_count": null,
   "metadata": {},
   "outputs": [],
   "source": [
    "searchResult = driver.page_source\n",
    "soup = BeautifulSoup(searchResult,'lxml')\n",
    "\n",
    "itemList = driver.find_elements_by_css_selector(\"div[class='sg-col-4-of-12 s-result-item s-asin sg-col-4-of-16 sg-col sg-col-4-of-20']\")\n",
    "firstUrl = itemList[0].find_element_by_css_selector(\"span[class='a-size-base-plus a-color-base a-text-normal']\")\n",
    "\n",
    "firstUrl.click()"
   ]
  },
  {
   "cell_type": "markdown",
   "metadata": {},
   "source": [
    "### 4) 리뷰 클릭하고 전체 리뷰 보기"
   ]
  },
  {
   "cell_type": "code",
   "execution_count": null,
   "metadata": {},
   "outputs": [],
   "source": [
    "reviewSee = driver.find_element_by_xpath('//*[@id=\"acrCustomerReviewText\"]')\n",
    "reviewSee.click()\n",
    "\n",
    "reviewAll = driver.find_element_by_xpath('//*[@id=\"cr-pagination-footer-0\"]/a')\n",
    "reviewAll.click()"
   ]
  },
  {
   "cell_type": "markdown",
   "metadata": {},
   "source": [
    "### 5) review 정보 가지고 오기\n",
    "* review 내용 , 작성자, 평점, 작성날짜, 작성지역, 유용함 정도\n",
    "* 10개 페이지 내용 가지고 오기"
   ]
  },
  {
   "cell_type": "code",
   "execution_count": null,
   "metadata": {
    "scrolled": true
   },
   "outputs": [],
   "source": [
    "review=[]\n",
    "reviewer =[]\n",
    "review_rate=[]\n",
    "review_date=[]\n",
    "review_area=[]\n",
    "review_helpful=[]\n",
    "\n",
    "#여러 페이지 가지고 오기\n",
    "for i in range(10):\n",
    "    page = driver.page_source\n",
    "    soup = BeautifulSoup(page,'lxml')\n",
    "    \n",
    "    #한 페이지에서 데이터 가지고 오기\n",
    "    review_all = soup.find(\"div\",id=\"cm_cr-review_list\").find_all(\"div\",class_=\"a-section celwidget\")\n",
    "\n",
    "    for j in review_all:\n",
    "        review.append(j.find(\"span\",attrs={\"data-hook\":\"review-body\"}).text.strip())        \n",
    "        reviewer.append(j.find(\"span\",class_=\"a-profile-name\").text)       \n",
    "        review_rate.append(j.find(\"span\",class_=\"a-icon-alt\").text.split(' ')[0])\n",
    "        date_area=j.find(\"span\",attrs={\"data-hook\":\"review-date\"}).text.lstrip('Reviewed in the').split(' on ')\n",
    "        review_date.append(date_area[-1])      \n",
    "        review_area.append(date_area[0])\n",
    "      \n",
    "        helpful_count= j.find(\"span\",attrs={\"data-hook\":\"helpful-vote-statement\"})\n",
    "        if helpful_count is not None:\n",
    "            helpful_count = j.find(\"span\",attrs={\"data-hook\":\"helpful-vote-statement\"}).text.split(' ')[0]\n",
    "            if helpful_count == 'One':\n",
    "                helpful_count = 1\n",
    "        else:\n",
    "            helpful_count =0\n",
    "        review_helpful.append(helpful_count) \n",
    "        \n",
    "    nextPage=driver.find_element_by_xpath('//*[@id=\"cm_cr-pagination_bar\"]/ul/li[2]/a')\n",
    "    nextPage.click()    \n",
    "    time.sleep(1)\n",
    "    \n",
    "print(reviewer, review_rate,review_date, review_area, review_helpful )\n"
   ]
  },
  {
   "cell_type": "markdown",
   "metadata": {},
   "source": [
    "### 6) 데이터 프레임 만들어 csv파일 생성"
   ]
  },
  {
   "cell_type": "code",
   "execution_count": null,
   "metadata": {},
   "outputs": [],
   "source": [
    "data ={'review': review, \n",
    "       'reviewer':reviewer, \n",
    "       'rate':review_rate ,\n",
    "       'review_date': review_date,\n",
    "       'area':review_area,\n",
    "       'helpful_count':review_helpful}\n",
    "\n",
    "data = pd.DataFrame(data)\n",
    "display(data)\n",
    "data.to_csv('amazon_review.csv',index=False, encoding='utf-8-sig')"
   ]
  },
  {
   "cell_type": "markdown",
   "metadata": {},
   "source": [
    "### 7) 워드클라우드 나타내기"
   ]
  },
  {
   "cell_type": "code",
   "execution_count": null,
   "metadata": {},
   "outputs": [],
   "source": [
    "print(type(review)) #type이 list라서 String 문자열로 변환해줌\n",
    "\n",
    "wordcloud = WordCloud(max_font_size=200,background_color='white', width=800, height=800).generate(''.join(review))\n",
    "\n",
    "plt.figure(figsize=(10, 8))\n",
    "plt.imshow(wordcloud, interpolation='bilinear')\n",
    "plt.tight_layout(pad=0)\n",
    "plt.axis('off')\n",
    "plt.show()\n"
   ]
  }
 ],
 "metadata": {
  "kernelspec": {
   "display_name": "Python 3",
   "language": "python",
   "name": "python3"
  },
  "language_info": {
   "codemirror_mode": {
    "name": "ipython",
    "version": 3
   },
   "file_extension": ".py",
   "mimetype": "text/x-python",
   "name": "python",
   "nbconvert_exporter": "python",
   "pygments_lexer": "ipython3",
   "version": "3.8.5"
  }
 },
 "nbformat": 4,
 "nbformat_minor": 4
}
